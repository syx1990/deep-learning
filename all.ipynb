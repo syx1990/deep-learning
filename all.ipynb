{
  "nbformat": 4,
  "nbformat_minor": 0,
  "metadata": {
    "colab": {
      "name": "Untitled0.ipynb",
      "provenance": [],
      "authorship_tag": "ABX9TyOG69USS7k2+AA6fuUXIh9/",
      "include_colab_link": true
    },
    "kernelspec": {
      "name": "python3",
      "display_name": "Python 3"
    },
    "language_info": {
      "name": "python"
    }
  },
  "cells": [
    {
      "cell_type": "markdown",
      "metadata": {
        "id": "view-in-github",
        "colab_type": "text"
      },
      "source": [
        "<a href=\"https://colab.research.google.com/github/syx1990/deep-learning/blob/main/all.ipynb\" target=\"_parent\"><img src=\"https://colab.research.google.com/assets/colab-badge.svg\" alt=\"Open In Colab\"/></a>"
      ]
    },
    {
      "cell_type": "code",
      "metadata": {
        "colab": {
          "base_uri": "https://localhost:8080/"
        },
        "id": "MAtEMqICA0jd",
        "outputId": "a9a49708-d5a3-46f9-ef1c-08a53938b220"
      },
      "source": [
        "import tensorflow as tf\n",
        "\n",
        "import numpy as np\n",
        "\n",
        "# 输出版本号\n",
        "print(tf.__version__)\n",
        "# where 的使用\n",
        "a = tf.constant([1,2,3,1,1])\n",
        "b=tf.constant([0,1,3,4,5])\n",
        "c = tf.where(tf.greater(a,b),a,b) # 若a>b，返回a对应位置的元素，否则返回b对应位置的元素\n",
        "print(\"元素对比c:\",c)\n",
        "# 返回随机数\n",
        "rdm = np.random.RandomState(seed=1) #seed=常数每次生成随机数相同\n",
        "a1 = rdm.rand() # 返回一个随机标量\n",
        "b1 = rdm.rand(2,3) # 返回维度为2行3列随机数矩阵\n",
        "print(\"返回随机标量a:\",a1)\n",
        "print(\"返回随机数矩阵b:\",b1)\n",
        "# 将两个数组按垂直方向叠加\n",
        "a2 = np.array([1,2,3])\n",
        "b2 = np.array([4,5,6])\n",
        "c2 = np.vstack((a2,b2))\n",
        "print(\"将两个数组按垂直方向叠加c2:\\n\",c2)\n",
        "# np.mgrid[ 起始值 : 结束值 : 步长 ，起始值 : 结束值 : 步长 , … ] \n",
        "# x.ravel( ) 将x变为一维数组，“把 . 前变量拉直”\n",
        "# np.c_[ ] 使返回的间隔数值点配对\n",
        "x,y = np.mgrid[1:3:1,2:4:0.5]\n",
        "grid = np.c_[x.ravel(),y.ravel()]\n",
        "print(\"一维数组x:\",x)\n",
        "print(\"一维数组y:\",y)\n",
        "print(\"返回的间隔数值点配对grid:\\n\",grid)\n",
        "\n",
        "\n",
        "\n",
        "#激活函数\n",
        "\n",
        "#对于初学者的建议：\n",
        "# 首选relu激活函数；\n",
        "# 学习率设置较小值；\n",
        "# 输入特征标准化，即让输入特征满足以0为均值，\n",
        "# 1为标准差的正态分布；\n",
        "# 初始参数中心化，即让随机生成的参数满足以0\n",
        "# 为均值， 2\n",
        "# 当前层输入特征个数 为标准差的正态分布。\n"
      ],
      "execution_count": 12,
      "outputs": [
        {
          "output_type": "stream",
          "name": "stdout",
          "text": [
            "2.6.0\n",
            "元素对比c: tf.Tensor([1 2 3 4 5], shape=(5,), dtype=int32)\n",
            "返回随机标量a: 0.417022004702574\n",
            "返回随机数矩阵b: [[7.20324493e-01 1.14374817e-04 3.02332573e-01]\n",
            " [1.46755891e-01 9.23385948e-02 1.86260211e-01]]\n",
            "将两个数组按垂直方向叠加c2:\n",
            " [[1 2 3]\n",
            " [4 5 6]]\n",
            "一维数组x: [[1. 1. 1. 1.]\n",
            " [2. 2. 2. 2.]]\n",
            "一维数组y: [[2.  2.5 3.  3.5]\n",
            " [2.  2.5 3.  3.5]]\n",
            "返回的间隔数值点配对grid:\n",
            " [[1.  2. ]\n",
            " [1.  2.5]\n",
            " [1.  3. ]\n",
            " [1.  3.5]\n",
            " [2.  2. ]\n",
            " [2.  2.5]\n",
            " [2.  3. ]\n",
            " [2.  3.5]]\n"
          ]
        }
      ]
    }
  ]
}