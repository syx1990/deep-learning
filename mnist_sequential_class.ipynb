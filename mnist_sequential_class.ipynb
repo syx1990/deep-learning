{
  "nbformat": 4,
  "nbformat_minor": 0,
  "metadata": {
    "colab": {
      "name": "mnist_sequential_class.ipynb",
      "provenance": [],
      "collapsed_sections": [],
      "authorship_tag": "ABX9TyPWRvq9YKzuXYGfBBodS2o1",
      "include_colab_link": true
    },
    "kernelspec": {
      "name": "python3",
      "display_name": "Python 3"
    },
    "language_info": {
      "name": "python"
    }
  },
  "cells": [
    {
      "cell_type": "markdown",
      "metadata": {
        "id": "view-in-github",
        "colab_type": "text"
      },
      "source": [
        "<a href=\"https://colab.research.google.com/github/syx1990/deep-learning/blob/main/mnist_sequential_class.ipynb\" target=\"_parent\"><img src=\"https://colab.research.google.com/assets/colab-badge.svg\" alt=\"Open In Colab\"/></a>"
      ]
    },
    {
      "cell_type": "code",
      "metadata": {
        "colab": {
          "base_uri": "https://localhost:8080/"
        },
        "id": "33UvuclSTWOr",
        "outputId": "b024c8ae-1ce0-40bb-bf6f-489bd47448e3"
      },
      "source": [
        "# -*- coding: utf-8 -*-\n",
        "# !/usr/bin/python3\n",
        "# author by : yuxiangShi\n",
        "# email  by: 18538187569@163.com\n",
        "# desc by: 创建以class基于神经网络的mnist分类\n",
        "\n",
        "# 1.导入包\n",
        "import tensorflow as tf\n",
        "from tensorflow.keras.layers import Dense,Flatten\n",
        "from tensorflow.keras import Model\n",
        "import numpy as np\n",
        "\n",
        "# 获取资源,定义训练特征和标签、以及测试特征和标签\n",
        "mnist = tf.keras.datasets.mnist\n",
        "(x_train,y_train),(x_test,y_test) = mnist.load_data()\n",
        "\n",
        "# 对输入网络的输入特征进行归一化、使原本0到255之间的灰度值，变为0到1之间的数值、把输入特征的数值变小更适合神经网络吸收\n",
        "x_train,x_test = x_train / 255.0,x_test / 255.0\n",
        "\n",
        "# 构建模型类\n",
        "class MnistModel(Model):\n",
        "  def __init__(self):\n",
        "    super(MnistModel,self).__init__()\n",
        "    self.flatten = Flatten()\n",
        "    self.d1 = Dense(128,activation='relu')\n",
        "    self.d2 = Dense(10,activation='softmax')\n",
        "\n",
        "  def call(self,x):\n",
        "    x = self.flatten(x)\n",
        "    x = self.d1(x)\n",
        "    y = self.d2(x)\n",
        "    return y\n",
        "\n",
        "model = MnistModel()\n",
        "\n",
        "# 构建神经网络\n",
        "model.compile(optimizer='adam',\n",
        "              loss=tf.keras.losses.SparseCategoricalCrossentropy(from_logits=False),\n",
        "              metrics=['sparse_categorical_accuracy'])\n",
        "\n",
        "# 训练模型\n",
        "model.fit(x_train,y_train,batch_size=32,epochs=5,validation_data=(x_test,y_test),validation_freq=1)\n",
        "# 输出统计结果\n",
        "model.summary()\n"
      ],
      "execution_count": 3,
      "outputs": [
        {
          "output_type": "stream",
          "name": "stdout",
          "text": [
            "Downloading data from https://storage.googleapis.com/tensorflow/tf-keras-datasets/mnist.npz\n",
            "11493376/11490434 [==============================] - 0s 0us/step\n",
            "11501568/11490434 [==============================] - 0s 0us/step\n",
            "Epoch 1/5\n",
            "1875/1875 [==============================] - 4s 2ms/step - loss: 0.2538 - sparse_categorical_accuracy: 0.9285 - val_loss: 0.1366 - val_sparse_categorical_accuracy: 0.9604\n",
            "Epoch 2/5\n",
            "1875/1875 [==============================] - 3s 2ms/step - loss: 0.1122 - sparse_categorical_accuracy: 0.9664 - val_loss: 0.0980 - val_sparse_categorical_accuracy: 0.9694\n",
            "Epoch 3/5\n",
            "1875/1875 [==============================] - 3s 2ms/step - loss: 0.0768 - sparse_categorical_accuracy: 0.9762 - val_loss: 0.0887 - val_sparse_categorical_accuracy: 0.9722\n",
            "Epoch 4/5\n",
            "1875/1875 [==============================] - 3s 2ms/step - loss: 0.0569 - sparse_categorical_accuracy: 0.9823 - val_loss: 0.0848 - val_sparse_categorical_accuracy: 0.9752\n",
            "Epoch 5/5\n",
            "1875/1875 [==============================] - 3s 2ms/step - loss: 0.0441 - sparse_categorical_accuracy: 0.9861 - val_loss: 0.0749 - val_sparse_categorical_accuracy: 0.9768\n",
            "Model: \"mnist_model\"\n",
            "_________________________________________________________________\n",
            "Layer (type)                 Output Shape              Param #   \n",
            "=================================================================\n",
            "flatten (Flatten)            multiple                  0         \n",
            "_________________________________________________________________\n",
            "dense (Dense)                multiple                  100480    \n",
            "_________________________________________________________________\n",
            "dense_1 (Dense)              multiple                  1290      \n",
            "=================================================================\n",
            "Total params: 101,770\n",
            "Trainable params: 101,770\n",
            "Non-trainable params: 0\n",
            "_________________________________________________________________\n"
          ]
        }
      ]
    }
  ]
}