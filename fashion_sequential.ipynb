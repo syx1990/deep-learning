{
  "nbformat": 4,
  "nbformat_minor": 0,
  "metadata": {
    "colab": {
      "name": "fashion_sequential.ipynb",
      "provenance": [],
      "collapsed_sections": [],
      "authorship_tag": "ABX9TyPjjGel6qwBEUL+4PFe5ypZ",
      "include_colab_link": true
    },
    "kernelspec": {
      "display_name": "Python 3",
      "name": "python3"
    },
    "language_info": {
      "name": "python"
    }
  },
  "cells": [
    {
      "cell_type": "markdown",
      "metadata": {
        "id": "view-in-github",
        "colab_type": "text"
      },
      "source": [
        "<a href=\"https://colab.research.google.com/github/syx1990/deep-learning/blob/main/fashion_sequential.ipynb\" target=\"_parent\"><img src=\"https://colab.research.google.com/assets/colab-badge.svg\" alt=\"Open In Colab\"/></a>"
      ]
    },
    {
      "cell_type": "code",
      "metadata": {
        "colab": {
          "background_save": true,
          "base_uri": "https://localhost:8080/"
        },
        "id": "JwWxN_g-xdIB",
        "outputId": "c619580f-f101-4f11-bf02-ce0b1764abce"
      },
      "source": [
        "# -*- coding: utf-8 -*-\n",
        "# !/usr/bin/python3\n",
        "# author by : yuxiangShi\n",
        "# email  by: 18538187569@163.com\n",
        "# desc by: FASHION服饰Sequential方式进行分类\n",
        "\n",
        "# 1.导入所需要的包\n",
        "import tensorflow as tf\n",
        "from tensorflow.keras.layers import Dense,Flatten\n",
        "from tensorflow.keras import Model\n",
        "\n",
        "# 2.获取数据\n",
        "fashion = tf.keras.datasets.fashion_mnist\n",
        "(x_train,y_train),(x_test,y_test) = fashion.load_data() \n",
        "\n",
        "x_train,x_test = x_train / 255.0,x_test / 255.0 # 将像素改为255\n",
        "\n",
        "# 3.创建模型\n",
        "model = tf.keras.models.Sequential([ # 容器,网络结构\n",
        "    tf.keras.layers.Flatten(), # 拉直层\n",
        "    tf.keras.layers.Dense(120,activation='relu'), # 全连接层\n",
        "    # tf.keras.layers.Dense(10,activation='softmax')                                                    \n",
        "])\n",
        "\n",
        "# 4.编译模型\n",
        "model.compile(optimizer='adam',\n",
        "              loss=tf.keras.losses.SparseCategoricalCrossentropy(from_logits=False),\n",
        "              metrics=['sparse_categorical_accuracy'])\n",
        "\n",
        "# 5.训练模型\n",
        "model.fit(x_train,y_train,batch_size = 32,epochs=10,validation_data=(x_test,y_test),validation_freq=5)\n",
        "\n",
        "# 6.输出统计结果\n",
        "model.summary()\n"
      ],
      "execution_count": null,
      "outputs": [
        {
          "name": "stdout",
          "output_type": "stream",
          "text": [
            "Epoch 1/10\n",
            "1875/1875 [==============================] - 4s 2ms/step - loss: 4.7649 - sparse_categorical_accuracy: 0.1174\n",
            "Epoch 2/10\n",
            "1875/1875 [==============================] - 4s 2ms/step - loss: 4.7532 - sparse_categorical_accuracy: 0.1073\n",
            "Epoch 3/10\n",
            "1875/1875 [==============================] - 4s 2ms/step - loss: 4.7426 - sparse_categorical_accuracy: 0.1094\n",
            "Epoch 4/10\n",
            "1875/1875 [==============================] - 4s 2ms/step - loss: 4.7640 - sparse_categorical_accuracy: 0.1049\n",
            "Epoch 5/10\n",
            "1875/1875 [==============================] - 5s 2ms/step - loss: 4.7555 - sparse_categorical_accuracy: 0.1067 - val_loss: 4.7316 - val_sparse_categorical_accuracy: 0.1120\n",
            "Epoch 6/10\n",
            "1875/1875 [==============================] - 4s 2ms/step - loss: 4.7618 - sparse_categorical_accuracy: 0.1054\n",
            "Epoch 7/10\n",
            "1875/1875 [==============================] - 4s 2ms/step - loss: 4.7552 - sparse_categorical_accuracy: 0.1068\n",
            "Epoch 8/10\n",
            "1875/1875 [==============================] - 4s 2ms/step - loss: 4.7849 - sparse_categorical_accuracy: 0.1006\n",
            "Epoch 9/10\n",
            "1875/1875 [==============================] - 4s 2ms/step - loss: 4.7359 - sparse_categorical_accuracy: 0.1109\n",
            "Epoch 10/10\n",
            "1875/1875 [==============================] - 4s 2ms/step - loss: 4.7264 - sparse_categorical_accuracy: 0.1128 - val_loss: 4.6916 - val_sparse_categorical_accuracy: 0.1202\n",
            "Model: \"sequential_2\"\n",
            "_________________________________________________________________\n",
            "Layer (type)                 Output Shape              Param #   \n",
            "=================================================================\n",
            "flatten_2 (Flatten)          (None, 784)               0         \n",
            "_________________________________________________________________\n",
            "dense_4 (Dense)              (None, 120)               94200     \n",
            "=================================================================\n",
            "Total params: 94,200\n",
            "Trainable params: 94,200\n",
            "Non-trainable params: 0\n",
            "_________________________________________________________________\n"
          ]
        }
      ]
    }
  ]
}