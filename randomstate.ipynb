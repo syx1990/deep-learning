{
  "nbformat": 4,
  "nbformat_minor": 0,
  "metadata": {
    "colab": {
      "name": "randomstate.ipynb",
      "provenance": [],
      "collapsed_sections": [],
      "authorship_tag": "ABX9TyNTJ7cr24PWX7r5x7vmrFa2",
      "include_colab_link": true
    },
    "kernelspec": {
      "name": "python3",
      "display_name": "Python 3"
    },
    "language_info": {
      "name": "python"
    }
  },
  "cells": [
    {
      "cell_type": "markdown",
      "metadata": {
        "id": "view-in-github",
        "colab_type": "text"
      },
      "source": [
        "<a href=\"https://colab.research.google.com/github/syx1990/deep-learning/blob/main/randomstate.ipynb\" target=\"_parent\"><img src=\"https://colab.research.google.com/assets/colab-badge.svg\" alt=\"Open In Colab\"/></a>"
      ]
    },
    {
      "cell_type": "code",
      "metadata": {
        "colab": {
          "base_uri": "https://localhost:8080/"
        },
        "id": "mVDj-iMW-b7k",
        "outputId": "6ec9a7ab-bf73-410c-b21a-0976e34de8c3"
      },
      "source": [
        "import tensorflow as tf\n",
        "\n",
        "print(tf.__version__)\n",
        "\n",
        "\n",
        "import numpy as np\n",
        "\n",
        "rdm=np.random.RandomState(seed = 1) # seed=常数每次生成随机数相同\n",
        "a = rdm.rand() # 返回一个随机标量\n",
        "b = rdm.rand(2,3) # 返回维度为2行3列随机数矩阵\n",
        "print(\"a:\",a)\n",
        "print(\"b:\",b)\n",
        "\n",
        "\n"
      ],
      "execution_count": 2,
      "outputs": [
        {
          "output_type": "stream",
          "name": "stdout",
          "text": [
            "2.6.0\n",
            "a: 0.417022004702574\n",
            "b: [[7.20324493e-01 1.14374817e-04 3.02332573e-01]\n",
            " [1.46755891e-01 9.23385948e-02 1.86260211e-01]]\n"
          ]
        }
      ]
    }
  ]
}