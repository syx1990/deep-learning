{
  "nbformat": 4,
  "nbformat_minor": 0,
  "metadata": {
    "colab": {
      "name": "mnist_sequential.ipynb",
      "provenance": [],
      "collapsed_sections": [],
      "authorship_tag": "ABX9TyNSFQx8AEugmI/86kgjNCtZ",
      "include_colab_link": true
    },
    "kernelspec": {
      "name": "python3",
      "display_name": "Python 3"
    },
    "language_info": {
      "name": "python"
    }
  },
  "cells": [
    {
      "cell_type": "markdown",
      "metadata": {
        "id": "view-in-github",
        "colab_type": "text"
      },
      "source": [
        "<a href=\"https://colab.research.google.com/github/syx1990/deep-learning/blob/main/mnist_sequential.ipynb\" target=\"_parent\"><img src=\"https://colab.research.google.com/assets/colab-badge.svg\" alt=\"Open In Colab\"/></a>"
      ]
    },
    {
      "cell_type": "code",
      "metadata": {
        "colab": {
          "base_uri": "https://localhost:8080/"
        },
        "id": "-KM84Ql614UN",
        "outputId": "c63a7173-a9d7-4988-de44-d93b6818deab"
      },
      "source": [
        "# -*- coding: utf-8 -*-\n",
        "# !/usr/bin/python3\n",
        "# author by : yuxiangShi\n",
        "# tell  by: 18538187569\n",
        "# desc by: 基于神经网络的mnist分类\n",
        "\n",
        "# 1.导入包\n",
        "import tensorflow as tf\n",
        "# 2.定义mnst数据获取、定义训练数据和测试数据\n",
        "mnist = tf.keras.datasets.mnist\n",
        "\n",
        "(x_train,y_train),(x_test,y_test) = mnist.load_data()\n",
        "\n",
        "# 3.对输入网络的输入特征进行归一化、使原本0到255之间的灰度值，变为0到1之间的数值、把输入特征的数值变小更适合神经网络吸收\n",
        "x_train,x_test = x_train/255.0,x_test/255.0\n",
        "\n",
        "# 4.构建模型\n",
        "model = tf.keras.models.Sequential([\n",
        "   tf.keras.layers.Flatten(), # 拉直层\n",
        "   tf.keras.layers.Dense(128,activation='relu'), # 128个神经元为超参数\n",
        "   tf.keras.layers.Dense(10, activation='softmax')  # 10分类的任务，所以输出层有10个节点\n",
        "])\n",
        "\n",
        "# 5.构建神经网络\n",
        "model.compile(optimizer='adam',\n",
        "              loss=tf.keras.losses.SparseCategoricalCrossentropy(from_logits=False),\n",
        "              metrics=['sparse_categorical_accuracy'])\n",
        "\n",
        "# 6.训练模型\n",
        "model.fit(x_train,y_train,batch_size = 32,epochs=10,validation_data=(x_test,y_test),validation_freq=1)\n",
        "\n",
        "# 7.输出结果和统计\n",
        "model.summary()\n",
        "\n",
        "\n",
        "\n"
      ],
      "execution_count": 5,
      "outputs": [
        {
          "output_type": "stream",
          "name": "stdout",
          "text": [
            "Epoch 1/10\n",
            "1875/1875 [==============================] - 5s 3ms/step - loss: 0.2568 - sparse_categorical_accuracy: 0.9270 - val_loss: 0.1574 - val_sparse_categorical_accuracy: 0.9490\n",
            "Epoch 2/10\n",
            "1875/1875 [==============================] - 5s 3ms/step - loss: 0.1142 - sparse_categorical_accuracy: 0.9661 - val_loss: 0.0957 - val_sparse_categorical_accuracy: 0.9701\n",
            "Epoch 3/10\n",
            "1875/1875 [==============================] - 4s 2ms/step - loss: 0.0788 - sparse_categorical_accuracy: 0.9765 - val_loss: 0.0780 - val_sparse_categorical_accuracy: 0.9753\n",
            "Epoch 4/10\n",
            "1875/1875 [==============================] - 5s 2ms/step - loss: 0.0580 - sparse_categorical_accuracy: 0.9824 - val_loss: 0.0843 - val_sparse_categorical_accuracy: 0.9748\n",
            "Epoch 5/10\n",
            "1875/1875 [==============================] - 4s 2ms/step - loss: 0.0465 - sparse_categorical_accuracy: 0.9858 - val_loss: 0.0739 - val_sparse_categorical_accuracy: 0.9764\n",
            "Epoch 6/10\n",
            "1875/1875 [==============================] - 5s 2ms/step - loss: 0.0356 - sparse_categorical_accuracy: 0.9893 - val_loss: 0.0725 - val_sparse_categorical_accuracy: 0.9774\n",
            "Epoch 7/10\n",
            "1875/1875 [==============================] - 5s 2ms/step - loss: 0.0284 - sparse_categorical_accuracy: 0.9915 - val_loss: 0.0755 - val_sparse_categorical_accuracy: 0.9773\n",
            "Epoch 8/10\n",
            "1875/1875 [==============================] - 5s 2ms/step - loss: 0.0231 - sparse_categorical_accuracy: 0.9926 - val_loss: 0.0713 - val_sparse_categorical_accuracy: 0.9797\n",
            "Epoch 9/10\n",
            "1875/1875 [==============================] - 5s 2ms/step - loss: 0.0190 - sparse_categorical_accuracy: 0.9941 - val_loss: 0.0809 - val_sparse_categorical_accuracy: 0.9758\n",
            "Epoch 10/10\n",
            "1875/1875 [==============================] - 5s 2ms/step - loss: 0.0162 - sparse_categorical_accuracy: 0.9951 - val_loss: 0.0871 - val_sparse_categorical_accuracy: 0.9764\n",
            "Model: \"sequential_2\"\n",
            "_________________________________________________________________\n",
            "Layer (type)                 Output Shape              Param #   \n",
            "=================================================================\n",
            "flatten_3 (Flatten)          (None, 784)               0         \n",
            "_________________________________________________________________\n",
            "dense_6 (Dense)              (None, 128)               100480    \n",
            "_________________________________________________________________\n",
            "dense_7 (Dense)              (None, 10)                1290      \n",
            "=================================================================\n",
            "Total params: 101,770\n",
            "Trainable params: 101,770\n",
            "Non-trainable params: 0\n",
            "_________________________________________________________________\n"
          ]
        }
      ]
    }
  ]
}