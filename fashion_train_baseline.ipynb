{
  "nbformat": 4,
  "nbformat_minor": 0,
  "metadata": {
    "colab": {
      "name": "fashion_train_baseline.ipynb",
      "provenance": [],
      "collapsed_sections": [],
      "authorship_tag": "ABX9TyMvXgt2MyPI7N+ScN4JMukq",
      "include_colab_link": true
    },
    "kernelspec": {
      "name": "python3",
      "display_name": "Python 3"
    },
    "language_info": {
      "name": "python"
    }
  },
  "cells": [
    {
      "cell_type": "markdown",
      "metadata": {
        "id": "view-in-github",
        "colab_type": "text"
      },
      "source": [
        "<a href=\"https://colab.research.google.com/github/syx1990/deep-learning/blob/main/fashion_train_baseline.ipynb\" target=\"_parent\"><img src=\"https://colab.research.google.com/assets/colab-badge.svg\" alt=\"Open In Colab\"/></a>"
      ]
    },
    {
      "cell_type": "code",
      "metadata": {
        "colab": {
          "base_uri": "https://localhost:8080/"
        },
        "id": "wMlW2fsMyqKW",
        "outputId": "0a977422-93bd-4624-bac3-fcc5acc62302"
      },
      "source": [
        "# -*- coding: utf-8 -*-\n",
        "# !/usr/bin/python3\n",
        "# author by : yuxiangShi\n",
        "# email  by: 18538187569@163.com\n",
        "# desc by: FASHION服饰通过建立模型的方式进行分类基本在线版\n",
        "\n",
        "# 1.导入包\n",
        "import tensorflow as tf\n",
        "\n",
        "# 2.获取数据\n",
        "datasets = tf.keras.datasets.fashion_mnist\n",
        "(x_train,y_train),(x_test,y_test) = datasets.load_data()\n",
        "\n",
        "x_train,x_test = x_train / 255.0,x_test / 255.0\n",
        "\n",
        "# 3.创建模型\n",
        "# 卷积神经网络\n",
        "model = tf.keras.models.Sequential([\n",
        "         tf.keras.layers.Flatten(),\n",
        "         tf.keras.layers.Dense(128,activation='relu'),\n",
        "         tf.keras.layers.Dense(10,activation='softmax')                                                             \n",
        "])\n",
        "# 4.分析模型\n",
        "model.compile(optimizer='adam',\n",
        "              loss=tf.losses.SparseCategoricalCrossentropy(from_logits=False),\n",
        "              metrics=['sparse_categorical_accuracy'])\n",
        "\n",
        "# 5.训练模型\n",
        "model.fit(x_train,y_train,batch_size=32,epochs=5,validation_data=(x_test,y_test),validation_freq=1)\n",
        "\n",
        "# 6.分析结果\n",
        "model.summary()\n",
        "\n",
        "# 7.保存模型\n",
        "model.save('mnist_cnn.h5')\n"
      ],
      "execution_count": 4,
      "outputs": [
        {
          "output_type": "stream",
          "name": "stdout",
          "text": [
            "Epoch 1/5\n",
            "1875/1875 [==============================] - 7s 3ms/step - loss: 0.4964 - sparse_categorical_accuracy: 0.8242 - val_loss: 0.4188 - val_sparse_categorical_accuracy: 0.8541\n",
            "Epoch 2/5\n",
            "1875/1875 [==============================] - 6s 3ms/step - loss: 0.3724 - sparse_categorical_accuracy: 0.8655 - val_loss: 0.3806 - val_sparse_categorical_accuracy: 0.8620\n",
            "Epoch 3/5\n",
            "1875/1875 [==============================] - 6s 3ms/step - loss: 0.3361 - sparse_categorical_accuracy: 0.8751 - val_loss: 0.3595 - val_sparse_categorical_accuracy: 0.8728\n",
            "Epoch 4/5\n",
            "1875/1875 [==============================] - 6s 3ms/step - loss: 0.3114 - sparse_categorical_accuracy: 0.8852 - val_loss: 0.3790 - val_sparse_categorical_accuracy: 0.8670\n",
            "Epoch 5/5\n",
            "1875/1875 [==============================] - 5s 3ms/step - loss: 0.2934 - sparse_categorical_accuracy: 0.8917 - val_loss: 0.3914 - val_sparse_categorical_accuracy: 0.8624\n",
            "Model: \"sequential_1\"\n",
            "_________________________________________________________________\n",
            "Layer (type)                 Output Shape              Param #   \n",
            "=================================================================\n",
            "flatten_1 (Flatten)          (None, 784)               0         \n",
            "_________________________________________________________________\n",
            "dense_2 (Dense)              (None, 128)               100480    \n",
            "_________________________________________________________________\n",
            "dense_3 (Dense)              (None, 10)                1290      \n",
            "=================================================================\n",
            "Total params: 101,770\n",
            "Trainable params: 101,770\n",
            "Non-trainable params: 0\n",
            "_________________________________________________________________\n"
          ]
        }
      ]
    }
  ]
}