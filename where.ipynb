{
  "nbformat": 4,
  "nbformat_minor": 0,
  "metadata": {
    "colab": {
      "name": "where.ipynb",
      "provenance": [],
      "authorship_tag": "ABX9TyPOojrtnJRi3mQGndgORVWn",
      "include_colab_link": true
    },
    "kernelspec": {
      "name": "python3",
      "display_name": "Python 3"
    },
    "language_info": {
      "name": "python"
    }
  },
  "cells": [
    {
      "cell_type": "markdown",
      "metadata": {
        "id": "view-in-github",
        "colab_type": "text"
      },
      "source": [
        "<a href=\"https://colab.research.google.com/github/syx1990/deep-learning/blob/main/where.ipynb\" target=\"_parent\"><img src=\"https://colab.research.google.com/assets/colab-badge.svg\" alt=\"Open In Colab\"/></a>"
      ]
    },
    {
      "cell_type": "code",
      "metadata": {
        "colab": {
          "base_uri": "https://localhost:8080/"
        },
        "id": "X3EC8W498_u4",
        "outputId": "901ac796-60e8-46cd-cbaa-d0164be7fb6d"
      },
      "source": [
        "import tensorflow as tf\n",
        "print(tf.__version__)\n",
        "a=tf.constant([1,2,3,1,1])\n",
        "b=tf.constant([0,1,3,4,5])\n",
        "c = tf.where(tf.greater(a,b),a,b) #  若a>b，返回a对应位置的元素，否则返回b对应位置的元素\n",
        "print(\"c:\",c)"
      ],
      "execution_count": 3,
      "outputs": [
        {
          "output_type": "stream",
          "name": "stdout",
          "text": [
            "2.6.0\n",
            "c: tf.Tensor([1 2 3 4 5], shape=(5,), dtype=int32)\n"
          ]
        }
      ]
    }
  ]
}